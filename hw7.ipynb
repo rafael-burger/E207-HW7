{
 "cells": [
  {
   "cell_type": "markdown",
   "id": "66c91d93-14ad-4ce8-b3da-454c16e66889",
   "metadata": {},
   "source": [
    "# Hidden Markov Models"
   ]
  },
  {
   "cell_type": "markdown",
   "id": "f63b1938-daaf-483d-b86c-9bb60361ce91",
   "metadata": {},
   "source": [
    "In this homework assignment you will train and evaluate a toy speech recognizer that can recognize 'yes' and 'no'.  As we move into the latter half of the course, note that the assignments will have less and less hand holding.  The goal is for you to become more and more independent, so that you are ready to work independently on the final project.  This assignment should be done in pairs and only one submission needs to be submitted on Gradescope for each team.  In your submission, you should create a single .zip file that contains your jupyter notebook, audio data, annotation data, and generated prediction files."
   ]
  },
  {
   "cell_type": "markdown",
   "id": "03b40e47-d050-46db-9870-84796af00cca",
   "metadata": {},
   "source": [
    "Please indicate the team member names here: Rafael Burger, Alexa Wright\n",
    "\n",
    "How many hours you each spent on this assignment: 12 (Rafael), 12 (Alexa)"
   ]
  },
  {
   "cell_type": "markdown",
   "id": "9cc250c8-be3d-4ee3-903b-041c64d7c14c",
   "metadata": {},
   "source": [
    "This assignment will be broken down into 5 main sections:\n",
    "1. Collect data & annotate (10 points)\n",
    "2. Train model using manual annotations (20 points)\n",
    "3. Perform inference on test data (20 points)\n",
    "4. Infer strong labels on weakly labeled data (20 points)\n",
    "5. Retrain model and evaluate on test data (20 points)\n",
    "\n",
    "An additional 10 points will be based on how well organized, commented, and readable your code is."
   ]
  },
  {
   "cell_type": "code",
   "execution_count": 1,
   "id": "9425c12a-9696-4f63-9996-03e072b246c4",
   "metadata": {},
   "outputs": [],
   "source": [
    "%matplotlib inline"
   ]
  },
  {
   "cell_type": "code",
   "execution_count": 2,
   "id": "d910fbfc-a073-42b9-8033-d1c85751e587",
   "metadata": {},
   "outputs": [],
   "source": [
    "import numpy as np\n",
    "np.seterr(divide='ignore')\n",
    "import matplotlib.pyplot as plt\n",
    "import librosa as lb\n",
    "from pathlib import Path\n",
    "from scipy.stats import multivariate_normal\n",
    "import glob\n",
    "import warnings"
   ]
  },
  {
   "cell_type": "markdown",
   "id": "d9765be7-739d-428d-96fc-55c0dfb2141d",
   "metadata": {},
   "source": [
    "### Part 1: Data Collection & Annotation"
   ]
  },
  {
   "cell_type": "markdown",
   "id": "ed578749-e858-439f-842b-76e4a212bcfa",
   "metadata": {},
   "source": [
    "For the data collection, you will record 10 audio clips:\n",
    "- Training data: 5 recordings.  Five of the audio recordings will be for training.  For these recordings, you should say a random sequence of ten yes's or no's.  For example, one recording might be 'yes no yes yes no no yes yes yes no'.  The recordings do not all have to have the same sequence of yes's and no's.  When recording your speaking, please include a variable-length silence in between each word.\n",
    "- Test data: 5 recordings.  Five of the audio recordings will be for testing.  For these recordings, you should say a variable-length sequence of yes's and no's.  For example, one recording might be 'yes no' and another might be 'no yes yes no no yes no yes'.  Use a variety of different lengths in your sentences.  Again, please include silence in between each word.\n",
    "\n",
    "All audio recordings should be done by a single person on a single device in the same environment (e.g. recorded on a cell phone in your dorm room)."
   ]
  },
  {
   "cell_type": "markdown",
   "id": "ae778194-a306-4238-9fd7-6d3bae3aa69e",
   "metadata": {},
   "source": [
    "Once you have recorded the audio, convert them to a format that librosa can read (e.g. wav or mp3) and put them in a folder entitled 'audio/'.  Name the files train1.mp3, train2.mp3, test1.mp3, test2.mp3, etc."
   ]
  },
  {
   "cell_type": "code",
   "execution_count": 3,
   "id": "fed767da-aa15-4f43-b3d7-775fa962a6dc",
   "metadata": {},
   "outputs": [],
   "source": [
    "AUDIO_DIR = Path('audio') \n",
    "ext = '.mp3' # audio format"
   ]
  },
  {
   "cell_type": "code",
   "execution_count": 4,
   "id": "049c2678-6dcb-4c8b-b5a5-c1f21b5dc6b1",
   "metadata": {},
   "outputs": [],
   "source": [
    "def verifyAudioData(indir, file_ext):\n",
    "    # verifies that all the needed audio files are present\n",
    "\n",
    "    # check train files\n",
    "    for i in range(5):\n",
    "        curfile = Path(AUDIO_DIR, f'train{i+1}').with_suffix(ext)\n",
    "        assert curfile.is_file(), f'Missing training file {curfile}'\n",
    "\n",
    "    # check test files\n",
    "    for i in range(5):\n",
    "        curfile = Path(AUDIO_DIR, f'test{i+1}').with_suffix(ext)\n",
    "        assert curfile.is_file(), f'Missing test file {curfile}'\n",
    "\n",
    "    print('All required audio data files are present!')\n",
    "    \n",
    "    return"
   ]
  },
  {
   "cell_type": "code",
   "execution_count": 5,
   "id": "c0c46e3d-6dfb-4ab8-9fa2-be1d7d52a2c5",
   "metadata": {},
   "outputs": [
    {
     "name": "stdout",
     "output_type": "stream",
     "text": [
      "All required audio data files are present!\n"
     ]
    }
   ],
   "source": [
    "verifyAudioData(AUDIO_DIR, ext)"
   ]
  },
  {
   "cell_type": "markdown",
   "id": "0016d33b-d4b8-48ae-a7fd-bd3cad703856",
   "metadata": {},
   "source": [
    "Next you will create two different kinds of annotations: weak labels and strong labels.  \n",
    "\n",
    "**Weak labels**.  Create two annotation files for the weak labels.  The file train.transcription should look like:\n",
    "\n",
    "train1.mp3|yes no no yes no yes no no yes no\\\n",
    "train2.mp3|no yes yes yes no no yes no yes no\\\n",
    "...\\\n",
    "train5.mp3|yes no yes yes no no no yes no yes\n",
    "\n",
    "The file test.transcription should look like:\n",
    "\n",
    "test1.mp3|yes no\\\n",
    "test2.mp3|no yes yes no yes\\\n",
    "...\\\n",
    "test5.mp3|yes no yes no no yes no yes yes yes\n",
    "\n",
    "**Strong labels**.  Create one annotation file for train1.mp3 (only) containing strong labels.  The file train1.labels should be in the following format:\n",
    "\n",
    "0.00 1.37 sil\\\n",
    "1.37 2.60 yes\\\n",
    "2.60 5.20 sil\\\n",
    "5.20 6.30 no\\\n",
    "6.30 8.10 sil\\\n",
    "...\\\n",
    "12.30 13.25 yes\\\n",
    "13.25 15.90 sil\n",
    "\n",
    "For annotating timestamps, I recommend that you use Audacity.  Note that we are only annotating one file with strong labels because this process is time-consuming!"
   ]
  },
  {
   "cell_type": "code",
   "execution_count": 6,
   "id": "813bb75f-fdb0-447b-85bc-3393e0a054c9",
   "metadata": {},
   "outputs": [],
   "source": [
    "ANNOT_DIR = Path('annot')\n",
    "train_transcripts = Path(ANNOT_DIR, 'train.transcription')\n",
    "test_transcripts = Path(ANNOT_DIR, 'test.transcription')\n",
    "train1_labels = Path(ANNOT_DIR, 'train1.labels')"
   ]
  },
  {
   "cell_type": "code",
   "execution_count": 7,
   "id": "ef09f187-6a0c-4506-a9ec-facf5d8635cc",
   "metadata": {},
   "outputs": [],
   "source": [
    "def verifyAnnotations():\n",
    "    # verifies that all of the needed annotation files are present\n",
    "\n",
    "    assert train_transcripts.is_file(), f'Missing transcription file {train_transcripts}'    \n",
    "    assert test_transcripts.is_file(), f'Missing transcription file {test_transcripts}'    \n",
    "    assert train1_labels.is_file(), f'Missing label file {train1_labels}'\n",
    "    print('All required annotation files are present!')\n",
    "    \n",
    "    return"
   ]
  },
  {
   "cell_type": "code",
   "execution_count": 8,
   "id": "7f22c507-7922-469b-b036-cdb0a95150af",
   "metadata": {},
   "outputs": [
    {
     "name": "stdout",
     "output_type": "stream",
     "text": [
      "All required annotation files are present!\n"
     ]
    }
   ],
   "source": [
    "verifyAnnotations()"
   ]
  },
  {
   "cell_type": "markdown",
   "id": "5278ab12-bfc3-4993-a273-b6b59f1685f4",
   "metadata": {},
   "source": [
    "Using the above format for your label file, you should be able to visualize your labels alongside the audio in Audacity by selecting File --> Import --> Labels.  An example is shown below.  This type of visualization will be useful in evaluating how accurate your alignments and predictions are.\n",
    "\n",
    "![Snapshot](labels_snapshot.png)"
   ]
  },
  {
   "cell_type": "markdown",
   "id": "f4f24f13-4548-4334-b418-cb79c487f057",
   "metadata": {},
   "source": [
    "**Graded**: Please include a similar visualization of your data below.  Make sure you include your image file in your submission!\n",
    "\n",
    "\\[INCLUDE VISUALIZATION HERE\\]\n",
    "![Snapshot](test1image.PNG)"
   ]
  },
  {
   "cell_type": "markdown",
   "id": "f4db47ae-02e7-4c6f-9dd4-f184ae4f0712",
   "metadata": {},
   "source": [
    "### Part 2: Model Training"
   ]
  },
  {
   "cell_type": "markdown",
   "id": "0b38409a-c5cd-4b2e-8208-d7d2d0f9e686",
   "metadata": {},
   "source": [
    "In this part, you will train an HMM model based (only) on the label file for train1.mp3.  You must complete the implementations of the functions below.  No unit tests will be provided, though, so make sure to check your own work and verify that they are what you expect!"
   ]
  },
  {
   "cell_type": "markdown",
   "id": "0ce6c0f1-7346-473c-ba02-c2ca7d8e0008",
   "metadata": {},
   "source": [
    "The function below extracts a feature called mel frequency cepstral coefficients.  Unlike chroma features, which focus on pitch (i.e. fine spectral structure), MFCCs focus on timbre (i.e. rough spectral structure) and are helpful for recognizing speech or distinguishing between different instruments.  You may use the librosa function [librosa.feature.mfcc](https://librosa.org/doc/latest/generated/librosa.feature.mfcc.html) with default arguments."
   ]
  },
  {
   "cell_type": "code",
   "execution_count": 9,
   "id": "094891c1-7dfa-4f7e-9ef9-270fa9762f34",
   "metadata": {},
   "outputs": [],
   "source": [
    "def computeFeatures(audiofile):\n",
    "    \"\"\"\n",
    "    This function extracts mel frequency cepstral coefficients (MFCCs) from a given audio file.\n",
    "        \n",
    "    Inputs\n",
    "        - audiofile: filepath to the audio recording that you want to extract MFCC features from\n",
    "        \n",
    "    Outputs\n",
    "        - O: an F x N array containing MFCC features, where F corresponds to different features and \n",
    "             N corresponds to different audio frames\n",
    "        - hop: the hop size (in seconds) between adjacent frames\n",
    "    \"\"\"\n",
    "\n",
    "    ### INSERT CODE BELOW ###\n",
    "    winsize=1024                    # window size   [samples]\n",
    "    hop_samples=int(winsize//4)     # hop size      [samples]\n",
    "    y, sr = lb.load(audiofile)      # unpack data and sample rate from audiofile\n",
    "    hop_seconds = hop_samples / sr  # hop size      [seconds]\n",
    "    O = lb.feature.mfcc(y=y, win_length = winsize, hop_length = hop_samples ,sr=sr) # compute mfcc features\n",
    "    return (O, hop_seconds)         # return mfcc features and hop size [seconds]"
   ]
  },
  {
   "cell_type": "markdown",
   "id": "b71433ef-357f-4228-bdb9-6fb415630c4c",
   "metadata": {},
   "source": [
    "The function below constructs a mapping between the states and their numeric identifiers.  For ease of grading, please use the following mapping:\n",
    "- sil -> 0\n",
    "- Y -> 1\n",
    "- EH -> 2\n",
    "- S -> 3\n",
    "- N -> 4\n",
    "- OH -> 5"
   ]
  },
  {
   "cell_type": "code",
   "execution_count": 10,
   "id": "5465e689-ae52-47dc-9421-15d7bb9e0ff5",
   "metadata": {},
   "outputs": [],
   "source": [
    "def getStateMapping():\n",
    "    \"\"\"\n",
    "    Returns a mapping between the string and numeric representations of the six different states.\n",
    "    \n",
    "    Outputs\n",
    "      - states: a list that contains the states (in order).  This allows you to map from the numeric identifier\n",
    "        to the string representation (e.g. states[3])\n",
    "      - stateStr2id: a dict that maps from the state string representation to its numeric identifier (e.g. stateStr2id['EH'])\n",
    "    \"\"\"\n",
    "    ### INSERT CODE BELOW ###\n",
    "    #raise NotImplementedError\n",
    "    states=[\"sil\",\"Y\",\"EH\",\"S\",\"N\",\"OH\"]\n",
    "    stateStr2id ={\n",
    "        \"sil\":0,\n",
    "        \"Y\":1,\n",
    "        \"EH\":2,\n",
    "        \"S\":3,\n",
    "        \"N\":4,\n",
    "        \"OH\":5     \n",
    "    }\n",
    "    \n",
    "    return (states, stateStr2id)"
   ]
  },
  {
   "cell_type": "markdown",
   "id": "c30d7fb0-4d62-4305-ac97-eac632a063b1",
   "metadata": {},
   "source": [
    "The function below converts a .labels file into a sequence of states per frame.  You may assume that states in a word have equal duration (e.g. if the word 'yes' lasts 1.2 seconds, you can assume that 'Y', 'EH', and 'S' each have duration 0.4 sec)."
   ]
  },
  {
   "cell_type": "code",
   "execution_count": 11,
   "id": "d241dae0-d815-4059-8314-26b31e6f2305",
   "metadata": {},
   "outputs": [],
   "source": [
    "def getStatesFromLabelFile(labelfile, hopsize, str2id):\n",
    "    \"\"\"\n",
    "    Reads in a label file and returns a sequence of states for each audio frame.  For any given word, it assumes\n",
    "    that the constituent states all have equal duration.  For example, if the word 'yes' lasts 1.2 seconds, the constituent\n",
    "    states 'Y', 'EH', and 'S' are assumed to each have duration 0.4 seconds.\n",
    "    \n",
    "    Inputs\n",
    "      - labelfile: filepath to the .labels or .forcealign file \n",
    "      - hopsize: the hop size in seconds between adjacent audio frames\n",
    "      - str2id: dict that maps from the state's string representation to its numeric representation\n",
    "\n",
    "    Outputs\n",
    "      - S: list containing the sequence of numeric states for each audio frame\n",
    "    \"\"\"\n",
    "    ### INSERT CODE BELOW ###\n",
    "    f = open(labelfile)\n",
    "    lines = f.readlines()\n",
    "    \n",
    "    lastLine = lines[-1].split('\\t') # extract the end time of the last label to determine the length of S\n",
    "    endtime = float(lastLine[1])\n",
    "\n",
    "    S = np.zeros(int(endtime//hopsize))\n",
    "\n",
    "    states = [\"sil\", \"Y\", \"EH\", \"S\", \"N\", \"OH\"]\n",
    "\n",
    "    for i in range(len(lines)):\n",
    "        line = lines[i].split('\\t')   # split the label into [start time, end time, label identifier]\n",
    "        t1 = float(line[0])            # extract start time (convert from string to float)\n",
    "        t2 = float(line[1])            # extract end time\n",
    "        dur = t2 - t1                   # compute duration of label \n",
    "        ind = np.zeros(4)\n",
    "        label = line[2]\n",
    "        \n",
    "\n",
    "        if 'sil' in label:           # check if 'sil' is in the label rather than checking equality to deal with inconsistent newline characters\n",
    "            for i in range(2):  # generate beginning and end indices bc only one silent state\n",
    "                ind[i] = int((t1 + i*dur) // hopsize)\n",
    "            S[int(ind[0]): int(ind[1])] = str2id[states[0]]\n",
    "\n",
    "        elif 'yes' in label:\n",
    "            for i in range(4):  # generate equally spaced indices to separate 3 'yes' states\n",
    "                ind[i] = int((t1 + i/3*dur) // hopsize)\n",
    "            for i in range(3):  # assign states to S matrix\n",
    "                S[int(ind[i]): int(ind[i+1])] = str2id[states[1+i]]\n",
    "\n",
    "        elif 'no' in label:\n",
    "            for i in range(3):  # generate equally spaced indices to separate 2 'no' states\n",
    "                ind[i] = int((t1 + i/2*dur) // hopsize)\n",
    "            for i in range(2):  # assign states to S matrix\n",
    "                S[int(ind[i]): int(ind[i+1])] = str2id[states[i+4]] \n",
    "    \n",
    "    return S"
   ]
  },
  {
   "cell_type": "code",
   "execution_count": 12,
   "id": "288f5d4c",
   "metadata": {},
   "outputs": [],
   "source": [
    "file= \"annot/train1.labels\"\n",
    "hop = 0.1\n",
    "states, str2id = getStateMapping()\n",
    "S = getStatesFromLabelFile(labelfile = file, hopsize = hop, str2id = str2id)"
   ]
  },
  {
   "cell_type": "markdown",
   "id": "9d1890cf-f95d-49de-8e15-820fa48f697d",
   "metadata": {},
   "source": [
    "This is a good place to verify that your functions are producing correct outputs:"
   ]
  },
  {
   "cell_type": "code",
   "execution_count": 13,
   "id": "a36f2442",
   "metadata": {},
   "outputs": [
    {
     "data": {
      "text/plain": [
       "[<matplotlib.lines.Line2D at 0x188e48c4450>]"
      ]
     },
     "execution_count": 13,
     "metadata": {},
     "output_type": "execute_result"
    },
    {
     "data": {
      "image/png": "[encoded data removed]",
      "text/plain": [
       "<Figure size 640x480 with 1 Axes>"
      ]
     },
     "metadata": {},
     "output_type": "display_data"
    },
    {
     "data": {
      "image/png": "[encoded data removed]",
      "text/plain": [
       "<Figure size 640x480 with 1 Axes>"
      ]
     },
     "metadata": {},
     "output_type": "display_data"
    }
   ],
   "source": [
    "O, hop = computeFeatures(Path(AUDIO_DIR, 'train1.mp3'))\n",
    "states, stateStr2id = getStateMapping()\n",
    "S = getStatesFromLabelFile(train1_labels, hop, stateStr2id)\n",
    "\n",
    "#plotting to see\n",
    "plt.figure()\n",
    "plt.title(\"Plotting all observations in all frames\")\n",
    "plt.ylabel(\"feature strength\")\n",
    "plt.xlabel(\"frame number\")\n",
    "c=0\n",
    "for feat in O:\n",
    "    plt.plot(feat,label=\"feature # \"+str(c))\n",
    "    c=c+1\n",
    "plt.legend()\n",
    "plt.figure()\n",
    "plt.plot(S)\n"
   ]
  },
  {
   "cell_type": "markdown",
   "id": "7fa87234-985b-4d77-82cc-7d2f53b31dac",
   "metadata": {},
   "source": [
    "The function below trains an HMM given a list of observations (i.e. MFCC feature matrices) and corresponding states.  A few helpful tips:\n",
    "- In this part of the assignment, you will only train the model on the train1.mp3 example, but your function below should be able to handle multiple training examples so that you can reuse this function in part 5.\n",
    "- You may assume that recordings always begin in the silent state.\n",
    "- You should assume that the emission probability model is a multivariate Gaussian model.\n",
    "- You should decompose this function and define other sub-functions as needed to keep your code neat and organized."
   ]
  },
  {
   "cell_type": "code",
   "execution_count": 14,
   "id": "9b7711d0-d3d2-4857-b4ce-a207d041af51",
   "metadata": {},
   "outputs": [],
   "source": [
    "def trainHMM(O_list, S_list, states):\n",
    "    \"\"\"\n",
    "    Trains an HMM given a list of observations and corresponding states.  The HMM assumes a multivariate Gaussian\n",
    "    emission probability model.\n",
    "\n",
    "    Inputs\n",
    "      - O_list: a list of matrices, where each matrix contains the MFCC coefficients for a single training recording\n",
    "      - S_list: a list of arrays, where each array specifies the states in each audio frame for a single training recording\n",
    "      - states: a list specifying the states in their string representation\n",
    "\n",
    "    Outputs\n",
    "      - A: the state transition probability matrix\n",
    "      - pi: the distribution of the initial state\n",
    "      - means: a matrix where each row specifies the mean of the distribution for a single state\n",
    "      - covars: a 3D tensor where the first index specifies a state, and the remaining two indices specify the covariance \n",
    "        matrix for the state's distribution\n",
    "    \"\"\"\n",
    "    ### INSERT CODE BELOW ###\n",
    "\n",
    "    \"\"\"\n",
    "    Note:\n",
    "    Phases of function:\n",
    "      1. determine A matrix by going through the entire list of states. Index aij will be # of times there is a state transition from i to j / total number of transitions from i to another state\n",
    "      2. Determine initial pi by perhaps averaging probabilities over all states, or simply choosing an initial probability\n",
    "      3. Generate list of means: where mu_i corresponds to the average of all observations for state i\n",
    "      4. From the means, generate covariance matrices for all i states\n",
    "\n",
    "    \"\"\"\n",
    "\n",
    "    #TODO: This is a cluttered mess, clean it up when possible \n",
    "    \n",
    "    state_names,mapping=getStateMapping()\n",
    "    num_records=len(O_list) #number of records\n",
    "    observation_size=len(O_list[0])\n",
    "\n",
    "    num_states=len(states)\n",
    "    A_sum = np.zeros((num_states,num_states)) \n",
    "    A = np.zeros((num_states,num_states)) \n",
    "    observations_sum = np.zeros((num_states,observation_size)) #summed observation for each state\n",
    "    total_state_count_list=np.zeros(num_states) #total number of times a state appears for all recordings\n",
    "    means=np.zeros((num_states,observation_size)) #mean of observations across all recordings\n",
    "    covars=np.zeros((num_states,observation_size,observation_size)) #covariance matrices for all recordings\n",
    "\n",
    "    #looping through all recordings \n",
    "    partitioned_observations=partitionObservations(O_list,S_list, observation_size=observation_size)\n",
    "\n",
    "    for i in range(num_records):\n",
    "      S_record=S_list[i]\n",
    "      O_record=O_list[i]\n",
    "      A=A+countTransitions(S_record,states) #Sum up all the precursor A matrices to compute values for all recordings\n",
    "      state_count_list=countNumStates(S_record, states) #list containing the number of time a state appears for this file\n",
    "\n",
    "      total_state_count_list=total_state_count_list+state_count_list# add this to the count of number of times state appears for all files\n",
    "      observations_sum=observations_sum+countObservations(O_record,S_record,states) #sum up all the observations to compute the average later\n",
    "    #computing the A matrix for all recordings\n",
    "    transitions_sum = np.einsum(\"ij->i\",A) #each element is the total number of transitions from each state index i. This sums the rows.\n",
    "    for i in range(len(transitions_sum)):\n",
    "      A[i,:]=A[i,:]/transitions_sum[i] #now divide by the total number of transitions\n",
    "\n",
    "\n",
    "\n",
    "    #computing average observation and covariances\n",
    "    for i in range(num_states):\n",
    "      means[i,:]=observations_sum[i,:]/total_state_count_list[i]  #average observation\n",
    "      \n",
    "      curr_obs=np.array(partitioned_observations[i])\n",
    "      #TODO see if this can be optimized/vectorized \n",
    "\n",
    "\n",
    "      #dif_vec = np.array([O_list[k,:,j]-means[i,:] for k in range(num_records) for j in range(np.shape(O_list[k])[1])]).T #vector across records and time\n",
    "      dif_vec = np.array([curr_obs[j,:]-means[i,:] for j in range(len(curr_obs))]).T\n",
    "\n",
    "      covar_sum=np.zeros((observation_size,observation_size))\n",
    "      for k in range(np.shape(dif_vec)[1]):\n",
    "        outer_prod=np.outer(dif_vec[:,k],dif_vec[:,k])\n",
    "        covar_sum=covar_sum+outer_prod\n",
    "\n",
    "        \n",
    "      covars[i,:,:]=(1/(total_state_count_list[i]-1))*covar_sum\n",
    "\n",
    "\n",
    "    pi=total_state_count_list/np.sum(total_state_count_list)\n",
    "\n",
    "\n",
    "    return (A, pi, means, covars)\n",
    "\n",
    "#sort all the observations into bins based on state type\n",
    "def partitionObservations(O_list,S_list, observation_size):\n",
    "  sorted_Observations=[[],[],[],[],[],[]]\n",
    "  num_records=len(O_list) #number of records\n",
    "  for i in range(num_records):\n",
    "    Observation_record=O_list[i]\n",
    "    State_record=S_list[i]\n",
    "    num_frames=len(State_record)\n",
    "    for j in range(num_frames):\n",
    "      current_state=int(State_record[j])\n",
    "      current_obs=Observation_record[:,j]\n",
    "      sorted_Observations[current_state].append(current_obs)\n",
    "  return sorted_Observations\n",
    "\n",
    "\n",
    "def findPi(S_list, states):\n",
    "  \"\"\"\n",
    "\n",
    "  \"\"\"\n",
    "\n",
    "def countTransitions(S_record,states):\n",
    "  num_states=len(states)\n",
    "  num_transitions_mat=np.zeros((num_states,num_states)) \n",
    "  for i in range(len(S_record)-1):\n",
    "    current_state=int(S_record[i]) #string of current state\n",
    "    next_state=int(S_record[i+1] )#string of next state\n",
    "\n",
    "    num_transitions_mat[current_state,next_state]=num_transitions_mat[current_state,next_state]+1 \n",
    " \n",
    "  return num_transitions_mat\n",
    "\n",
    "\n",
    "\n",
    "def countNumStates(S_list,states):\n",
    "  state_count =np.zeros(len(states)) #keeps count of how many times a state appears\n",
    "  for i in range(len(S_list)):\n",
    "    current_state=int(S_list[i])\n",
    "    state_count[current_state]=state_count[current_state]+1\n",
    "  return state_count\n",
    "\n",
    "\n",
    "def countObservations(O_record,S_record,states):\n",
    "  sum_observations = np.zeros((len(states),np.shape(O_record)[0])) #summed observation for each state\n",
    "  # print(\"O_record:countObervsations\",np.shape(O_record))\n",
    "  # print(\"S_record:countObervsations\",np.shape(S_record))\n",
    "  for i in range(len(S_record)):\n",
    "    current_state=int(S_record[i])#current state\n",
    "    current_observation=O_record[:,i]\n",
    "    sum_observations[current_state,:]=sum_observations[current_state,:]+current_observation #add current observation to running count\n",
    "  return sum_observations\n"
   ]
  },
  {
   "cell_type": "markdown",
   "id": "52e758ac-d4ac-43da-bb90-a53c413f68dd",
   "metadata": {},
   "source": [
    "Use the functions defined above to train an HMM model on the train1.labels file (only).  For grading purposes, please print out the following variables (and make sure your submitted notebook is showing the values): \n",
    "- the state transition probability matrix A\n",
    "- the means for all six states\n",
    "- the covariance matrix for 'sil'"
   ]
  },
  {
   "cell_type": "code",
   "execution_count": 15,
   "id": "70615059-14a1-458b-9c2a-bfb7a88d9e2a",
   "metadata": {},
   "outputs": [],
   "source": [
    "### INSERT AS MANY CELLS AS NEEDED BELOW ###\n",
    "\n",
    "audiofile = Path(AUDIO_DIR, \"train1.mp3\")\n",
    "labelfile = Path(ANNOT_DIR, \"train1.labels\")\n",
    "\n",
    "train1_obs, hop = computeFeatures(audiofile = audiofile) # compute observations and hop size from audio file\n",
    "\n",
    "states, stateStr2id = getStateMapping() # retrieve list of possible states and mapping between string and integer state representation\n",
    "\n",
    "train1_states = getStatesFromLabelFile(labelfile = labelfile, hopsize = hop, str2id = stateStr2id) # generate state list for audio file from strong labels\n",
    "\n",
    "O_list=np.array([train1_obs])\n",
    "S_list=np.array([train1_states])\n",
    "\n",
    "A, pi, means, covars = trainHMM(O_list, S_list, states)\n"
   ]
  },
  {
   "cell_type": "markdown",
   "id": "981d8386",
   "metadata": {},
   "source": [
    "### CHANGED THIS CELL TO MARKDOWN SO IT WOULDN'T PLOT OR RUN\n",
    "\n",
    "train_states_names=[]\n",
    "for i in range(len(train1_states)):\n",
    "    \n",
    "    train_states_names.append(states[int(train1_states[i])])\n",
    "times=np.array(range(len(train1_states)))*hop\n",
    "plt.figure(figsize=(10,5))\n",
    "plt.plot(times,train1_states)\n",
    "plt.xticks(np.arange(times[0],times[-1],0.5))\n",
    "plt.show()"
   ]
  },
  {
   "cell_type": "markdown",
   "id": "39e94a0d",
   "metadata": {},
   "source": [
    "\n",
    "\n",
    "### CHANGED THIS CELL TO MARKDOWN SO IT WOULDN'T PLOT OR RUN\n",
    "\n",
    "print(means[0]) #check to see if the average silent frame looks similar to a known silent frame\n",
    "print(O_list[0][:,0])\n",
    "\n",
    "\n",
    "\n",
    "plt.matshow(covars[0])\n",
    "plt.title(\"Covariance\")\n",
    "plt.figure()\n",
    "plt.title(\"Plotting all observations in all frames\")\n",
    "plt.ylabel(\"feature strength\")\n",
    "plt.xlabel(\"frame number\")\n",
    "c=0\n",
    "for feat in O_list[0]:\n",
    "    plt.plot(feat,label=\"feature # \"+str(c))\n",
    "    c=c+1\n",
    "plt.legend()\n",
    "\n",
    "plt.figure()\n",
    "plt.title(\"Average feature for all states\")\n",
    "plt.xlabel(\"feature #\")\n",
    "plt.ylabel(\"feature strength\")\n",
    "c=0\n",
    "for state in means:\n",
    "    plt.plot(state,label=\"state \"+str(c)+\" \"+states[c])\n",
    "    c=c+1\n",
    "plt.legend()\n"
   ]
  },
  {
   "cell_type": "markdown",
   "id": "6af74e81-44c4-45a1-9a71-c394c15fc49d",
   "metadata": {},
   "source": [
    "**Graded**: Print out A below"
   ]
  },
  {
   "cell_type": "code",
   "execution_count": 16,
   "id": "e83910bd-20ea-40c3-bfeb-201ec015cb9f",
   "metadata": {},
   "outputs": [
    {
     "data": {
      "text/plain": [
       "array([[0.97650131, 0.01305483, 0.        , 0.        , 0.01044386,\n",
       "        0.        ],\n",
       "       [0.        , 0.95419847, 0.04580153, 0.        , 0.        ,\n",
       "        0.        ],\n",
       "       [0.        , 0.        , 0.95419847, 0.04580153, 0.        ,\n",
       "        0.        ],\n",
       "       [0.03846154, 0.00769231, 0.        , 0.95384615, 0.        ,\n",
       "        0.        ],\n",
       "       [0.        , 0.        , 0.        , 0.        , 0.95652174,\n",
       "        0.04347826],\n",
       "       [0.04444444, 0.        , 0.        , 0.        , 0.        ,\n",
       "        0.95555556]])"
      ]
     },
     "execution_count": 16,
     "metadata": {},
     "output_type": "execute_result"
    }
   ],
   "source": [
    "A"
   ]
  },
  {
   "cell_type": "markdown",
   "id": "c5f250db-3945-4c92-8a8d-ea8145fd4eca",
   "metadata": {},
   "source": [
    "**Graded**: Print out the state distribution means below"
   ]
  },
  {
   "cell_type": "code",
   "execution_count": 17,
   "id": "18e3b0e9-1db7-4917-8b12-08c21185ef7e",
   "metadata": {},
   "outputs": [
    {
     "data": {
      "text/plain": [
       "array([[-4.00068771e+02,  9.07281810e+01,  2.27610435e+01,\n",
       "         2.27935201e+01,  1.25259130e+01,  1.63838478e+01,\n",
       "         9.15470868e+00,  1.07835291e+01,  5.56201800e+00,\n",
       "         1.07996634e+01,  4.61305195e+00,  6.39504209e+00,\n",
       "         1.67721756e+00,  2.90329360e+00, -1.65897526e+00,\n",
       "         2.36835092e+00,  6.73739975e-01,  3.56804730e+00,\n",
       "        -1.29386509e+00,  3.87393940e+00],\n",
       "       [-2.35154457e+02,  8.15141006e+01, -1.01412326e+01,\n",
       "         4.33034526e+01,  7.34262726e+00, -2.19423592e+01,\n",
       "         1.40825509e+01,  6.90334800e-01, -2.57736560e+00,\n",
       "         9.72487044e+00, -6.22558614e+00,  1.25156841e+01,\n",
       "        -3.68433262e+00, -1.19449810e+01, -1.80965151e+00,\n",
       "        -1.61406514e+00, -9.54488047e-01,  5.18779684e+00,\n",
       "        -3.60673428e+00, -1.42947927e+00],\n",
       "       [-2.25258321e+02,  1.53658334e+01,  3.10831815e+01,\n",
       "        -2.98850779e+00,  1.31041978e+01,  1.05136127e+01,\n",
       "         1.51622953e+00,  1.80121326e+01,  2.50224530e+00,\n",
       "         1.76327166e+01, -4.48647687e+00,  8.27659905e+00,\n",
       "        -2.84214461e+00, -6.01030812e+00, -1.01880093e+01,\n",
       "         2.50178552e+00,  1.76437286e+00,  4.33656829e+00,\n",
       "        -3.20493143e+00, -1.60693729e+00],\n",
       "       [-2.71688566e+02, -2.05526701e+01,  6.43049366e+01,\n",
       "        -3.21588608e+00,  1.52305826e+01,  3.20826282e+01,\n",
       "        -6.89017233e+00,  2.49158514e+01, -9.11964074e+00,\n",
       "         1.52352873e+01,  1.73702917e+00,  9.83694087e+00,\n",
       "         3.72526923e+00,  6.54099871e-01, -7.29436655e+00,\n",
       "         6.03654300e+00,  1.18576963e+00,  3.51196311e+00,\n",
       "        -3.33600770e+00,  4.77457367e+00],\n",
       "       [-2.67121070e+02,  1.03723497e+02, -1.29544718e+01,\n",
       "         3.22081574e+01,  1.91777180e+01, -9.35291584e+00,\n",
       "         8.97545974e+00,  3.59180282e-01, -3.34171631e+00,\n",
       "         1.38551576e+01, -8.29984870e+00,  1.01052337e+01,\n",
       "         1.06743257e+00, -7.60723730e+00, -9.74901707e+00,\n",
       "        -1.72546724e+00, -3.64430206e-01, -7.64088634e-01,\n",
       "        -9.59976880e+00,  3.90922839e-02],\n",
       "       [-2.65738649e+02,  1.35674413e+02, -2.03746551e+01,\n",
       "         5.47237597e+00, -2.05805169e+01,  1.26695942e+00,\n",
       "         2.53285883e+01, -1.83270674e+00, -7.20050596e+00,\n",
       "         1.90094475e+01,  6.85604792e+00,  5.75607932e+00,\n",
       "        -1.78676961e+00, -9.35901294e+00, -1.39169426e+01,\n",
       "        -4.99483027e+00,  4.65617649e+00, -7.36058579e-01,\n",
       "        -2.19963109e+00,  4.05119356e+00]])"
      ]
     },
     "execution_count": 17,
     "metadata": {},
     "output_type": "execute_result"
    }
   ],
   "source": [
    "means"
   ]
  },
  {
   "cell_type": "markdown",
   "id": "f209f330-b8fb-4693-9edb-148e8c396447",
   "metadata": {},
   "source": [
    "**Graded**: Print out the covariance matrix for 'sil' below"
   ]
  },
  {
   "cell_type": "code",
   "execution_count": 18,
   "id": "8bccf546-7fb0-44a3-bf50-42cf09e0e893",
   "metadata": {},
   "outputs": [
    {
     "data": {
      "text/plain": [
       "array([[ 3.97815654e+02,  1.10859616e+01, -1.87078925e+02,\n",
       "        -1.30875680e+01,  1.80821795e+01, -2.25348723e+01,\n",
       "        -3.20156546e+01,  1.86291235e+00, -1.71842522e+01,\n",
       "         1.51416390e+01,  1.08260003e+01,  1.26799013e+01,\n",
       "        -3.16776994e+00, -1.60522502e+01, -8.60837306e-01,\n",
       "         2.81409643e+01, -1.02427202e+01,  1.93887217e+00,\n",
       "        -8.58854959e+00, -1.34315198e+01],\n",
       "       [ 1.10859616e+01,  9.55563011e+01, -2.80660433e+01,\n",
       "        -3.53487923e+01,  4.24916220e+00, -7.10855989e+00,\n",
       "         6.09773871e+00, -1.42608165e+01,  6.29535455e+00,\n",
       "         3.54418795e+00, -6.66031158e-01, -4.57190260e+00,\n",
       "         4.80698776e+00, -3.72640174e+00,  4.33968892e+00,\n",
       "        -3.84027041e+00,  5.28360802e+00, -1.07772438e+01,\n",
       "        -4.57089216e+00, -4.91362163e+00],\n",
       "       [-1.87078925e+02, -2.80660433e+01,  1.91852870e+02,\n",
       "         2.86587166e+01, -2.58464013e+01,  2.13233643e+01,\n",
       "        -3.70061582e-01,  5.10319051e-01, -1.57527656e+00,\n",
       "        -8.32205345e+00, -9.89026174e+00,  1.08522385e+00,\n",
       "        -6.51634775e+00,  1.45949951e+01, -8.28257503e+00,\n",
       "        -1.79373035e+01,  6.37108650e+00,  3.31927246e+00,\n",
       "         8.14559931e+00,  3.41762291e+00],\n",
       "       [-1.30875680e+01, -3.53487923e+01,  2.86587166e+01,\n",
       "         5.07067357e+01,  4.45584153e+00, -3.48036719e+00,\n",
       "         5.82016170e-01,  6.73677402e+00,  6.52775096e-01,\n",
       "        -5.97953836e+00,  3.27282067e-01,  5.96014095e+00,\n",
       "        -1.15633986e-01,  2.50117871e-01, -3.62228838e+00,\n",
       "        -2.23671682e+00, -5.08440262e+00,  3.90931631e+00,\n",
       "         1.93678134e+00, -1.50499622e+00],\n",
       "       [ 1.80821795e+01,  4.24916220e+00, -2.58464013e+01,\n",
       "         4.45584153e+00,  3.73280516e+01,  8.73597566e+00,\n",
       "        -9.14138770e-01,  2.36788512e+00, -1.40528635e+00,\n",
       "        -2.19433271e+00,  2.30868993e+00,  1.44631117e+00,\n",
       "         4.60785071e-01, -9.84434973e-01,  2.27478099e+00,\n",
       "         2.60097219e+00,  2.56520141e+00,  1.43878338e+00,\n",
       "        -2.60583722e+00, -1.27256575e-01],\n",
       "       [-2.25348723e+01, -7.10855989e+00,  2.13233643e+01,\n",
       "        -3.48036719e+00,  8.73597566e+00,  2.92729790e+01,\n",
       "         4.73164673e+00, -4.00338951e-01, -3.65806779e+00,\n",
       "        -2.90737262e+00, -2.88027894e+00, -1.80518750e+00,\n",
       "         8.05189703e-01,  4.91010905e+00, -5.77176625e-01,\n",
       "        -2.76382694e+00,  3.84700087e+00,  4.98535711e+00,\n",
       "        -9.98910533e-01,  2.89120086e-02],\n",
       "       [-3.20156546e+01,  6.09773871e+00, -3.70061582e-01,\n",
       "         5.82016170e-01, -9.14138770e-01,  4.73164673e+00,\n",
       "         2.94732829e+01,  8.04691121e+00,  4.97064393e+00,\n",
       "        -3.00768146e+00, -2.31963645e+00, -1.53177328e+00,\n",
       "         4.52723675e+00,  2.18046839e-01, -3.40285311e-01,\n",
       "        -5.39547948e+00, -1.09037001e-01,  5.97918551e-01,\n",
       "        -1.31178898e-01,  4.49516701e-01],\n",
       "       [ 1.86291235e+00, -1.42608165e+01,  5.10319051e-01,\n",
       "         6.73677402e+00,  2.36788512e+00, -4.00338951e-01,\n",
       "         8.04691121e+00,  2.57302311e+01,  7.61927874e+00,\n",
       "        -2.80987550e+00, -1.20672833e+00, -1.77127020e-02,\n",
       "         3.32257495e-01, -1.57859103e+00, -1.49807135e+00,\n",
       "         1.22800533e+00, -1.07648866e-01,  3.08679030e+00,\n",
       "         4.96515276e-01, -1.70235853e+00],\n",
       "       [-1.71842522e+01,  6.29535455e+00, -1.57527656e+00,\n",
       "         6.52775096e-01, -1.40528635e+00, -3.65806779e+00,\n",
       "         4.97064393e+00,  7.61927874e+00,  2.54826776e+01,\n",
       "         4.36238911e+00, -3.74813508e+00, -3.81868985e+00,\n",
       "         1.64612664e+00, -2.87197285e+00, -2.23119952e+00,\n",
       "        -6.85040555e-01, -1.80742465e+00,  2.78263714e-01,\n",
       "         1.66264411e+00, -1.50068002e+00],\n",
       "       [ 1.51416390e+01,  3.54418795e+00, -8.32205345e+00,\n",
       "        -5.97953836e+00, -2.19433271e+00, -2.90737262e+00,\n",
       "        -3.00768146e+00, -2.80987550e+00,  4.36238911e+00,\n",
       "         2.00251989e+01,  6.80165429e+00, -3.35022926e+00,\n",
       "        -4.10570068e+00, -3.52998309e+00, -3.44623985e+00,\n",
       "        -2.72150509e+00, -2.70257289e+00, -1.37858667e+00,\n",
       "         1.57045712e-01, -7.77965286e-01],\n",
       "       [ 1.08260003e+01, -6.66031158e-01, -9.89026174e+00,\n",
       "         3.27282067e-01,  2.30868993e+00, -2.88027894e+00,\n",
       "        -2.31963645e+00, -1.20672833e+00, -3.74813508e+00,\n",
       "         6.80165429e+00,  2.52349713e+01,  5.99150710e+00,\n",
       "        -4.55027232e-01, -1.98705924e+00, -2.24653102e-01,\n",
       "         2.19731477e+00, -8.69068429e-01, -6.31140492e-01,\n",
       "         1.48835968e+00,  4.01044313e-01],\n",
       "       [ 1.26799013e+01, -4.57190260e+00,  1.08522385e+00,\n",
       "         5.96014095e+00,  1.44631117e+00, -1.80518750e+00,\n",
       "        -1.53177328e+00, -1.77127020e-02, -3.81868985e+00,\n",
       "        -3.35022926e+00,  5.99150710e+00,  2.29387558e+01,\n",
       "         6.74495718e+00,  2.70387288e+00,  4.68384448e-01,\n",
       "         1.17157739e-01, -9.42005387e-01,  4.50326976e-01,\n",
       "         1.79334742e+00, -1.15595607e+00],\n",
       "       [-3.16776994e+00,  4.80698776e+00, -6.51634775e+00,\n",
       "        -1.15633986e-01,  4.60785071e-01,  8.05189703e-01,\n",
       "         4.52723675e+00,  3.32257495e-01,  1.64612664e+00,\n",
       "        -4.10570068e+00, -4.55027232e-01,  6.74495718e+00,\n",
       "         2.14947359e+01,  6.43540696e+00,  9.38690553e-01,\n",
       "        -2.49375558e+00, -1.13925044e+00,  2.17119185e+00,\n",
       "         1.17708825e+00, -9.62663974e-01],\n",
       "       [-1.60522502e+01, -3.72640174e+00,  1.45949951e+01,\n",
       "         2.50117871e-01, -9.84434973e-01,  4.91010905e+00,\n",
       "         2.18046839e-01, -1.57859103e+00, -2.87197285e+00,\n",
       "        -3.52998309e+00, -1.98705924e+00,  2.70387288e+00,\n",
       "         6.43540696e+00,  2.77405017e+01,  9.91375882e+00,\n",
       "        -3.08272476e+00,  2.19289263e+00, -1.42595794e+00,\n",
       "         2.90691480e+00,  3.37571624e+00],\n",
       "       [-8.60837306e-01,  4.33968892e+00, -8.28257503e+00,\n",
       "        -3.62228838e+00,  2.27478099e+00, -5.77176625e-01,\n",
       "        -3.40285311e-01, -1.49807135e+00, -2.23119952e+00,\n",
       "        -3.44623985e+00, -2.24653102e-01,  4.68384448e-01,\n",
       "         9.38690553e-01,  9.91375882e+00,  2.23203599e+01,\n",
       "         9.54639932e+00, -1.33797264e-01, -2.55146650e+00,\n",
       "        -3.87936646e-01,  7.96570398e-01],\n",
       "       [ 2.81409643e+01, -3.84027041e+00, -1.79373035e+01,\n",
       "        -2.23671682e+00,  2.60097219e+00, -2.76382694e+00,\n",
       "        -5.39547948e+00,  1.22800533e+00, -6.85040555e-01,\n",
       "        -2.72150509e+00,  2.19731477e+00,  1.17157739e-01,\n",
       "        -2.49375558e+00, -3.08272476e+00,  9.54639932e+00,\n",
       "         2.50050699e+01,  8.21406726e+00,  3.73207163e+00,\n",
       "        -5.22505613e-03, -1.34778688e+00],\n",
       "       [-1.02427202e+01,  5.28360802e+00,  6.37108650e+00,\n",
       "        -5.08440262e+00,  2.56520141e+00,  3.84700087e+00,\n",
       "        -1.09037001e-01, -1.07648866e-01, -1.80742465e+00,\n",
       "        -2.70257289e+00, -8.69068429e-01, -9.42005387e-01,\n",
       "        -1.13925044e+00,  2.19289263e+00, -1.33797264e-01,\n",
       "         8.21406726e+00,  2.24533109e+01,  7.62388011e+00,\n",
       "        -1.05237504e-01,  7.55330080e-01],\n",
       "       [ 1.93887217e+00, -1.07772438e+01,  3.31927246e+00,\n",
       "         3.90931631e+00,  1.43878338e+00,  4.98535711e+00,\n",
       "         5.97918551e-01,  3.08679030e+00,  2.78263714e-01,\n",
       "        -1.37858667e+00, -6.31140492e-01,  4.50326976e-01,\n",
       "         2.17119185e+00, -1.42595794e+00, -2.55146650e+00,\n",
       "         3.73207163e+00,  7.62388011e+00,  2.15228263e+01,\n",
       "         7.06997602e+00, -2.58695115e-01],\n",
       "       [-8.58854959e+00, -4.57089216e+00,  8.14559931e+00,\n",
       "         1.93678134e+00, -2.60583722e+00, -9.98910533e-01,\n",
       "        -1.31178898e-01,  4.96515276e-01,  1.66264411e+00,\n",
       "         1.57045712e-01,  1.48835968e+00,  1.79334742e+00,\n",
       "         1.17708825e+00,  2.90691480e+00, -3.87936646e-01,\n",
       "        -5.22505613e-03, -1.05237504e-01,  7.06997602e+00,\n",
       "         1.93134726e+01,  8.56499976e+00],\n",
       "       [-1.34315198e+01, -4.91362163e+00,  3.41762291e+00,\n",
       "        -1.50499622e+00, -1.27256575e-01,  2.89120086e-02,\n",
       "         4.49516701e-01, -1.70235853e+00, -1.50068002e+00,\n",
       "        -7.77965286e-01,  4.01044313e-01, -1.15595607e+00,\n",
       "        -9.62663974e-01,  3.37571624e+00,  7.96570398e-01,\n",
       "        -1.34778688e+00,  7.55330080e-01, -2.58695115e-01,\n",
       "         8.56499976e+00,  2.04119064e+01]])"
      ]
     },
     "execution_count": 18,
     "metadata": {},
     "output_type": "execute_result"
    }
   ],
   "source": [
    "covars[0]"
   ]
  },
  {
   "cell_type": "markdown",
   "id": "24fcf5f5-274f-4d2e-a23e-e82cad3e8ec4",
   "metadata": {},
   "source": [
    "### Part 3: Inference"
   ]
  },
  {
   "cell_type": "markdown",
   "id": "798cdd39-dee7-4191-a52a-b4f963af760d",
   "metadata": {},
   "source": [
    "In this part, we will use our trained model from part 2 to estimate the state sequence on test recordings.  You must complete the implementations of the functions below.  Again, no unit tests will be provided, so make sure to check your own work!"
   ]
  },
  {
   "cell_type": "markdown",
   "id": "5ab743ab-4abb-454a-9a2d-f6a2e7d141c1",
   "metadata": {},
   "source": [
    "The function below calculates a pairwise similarity matrix, assuming a Gaussian emission probability model.  You may use the scipy implementation of [multivariate_normal](https://docs.scipy.org/doc/scipy/reference/generated/scipy.stats.multivariate_normal.html) in your implementation."
   ]
  },
  {
   "cell_type": "code",
   "execution_count": 19,
   "id": "9daae01b-2c82-4a09-920d-248160ad58bd",
   "metadata": {},
   "outputs": [],
   "source": [
    "# RAFAEL \n",
    "def calcSimilarity_multivariateGaussian(O, means, covars):\n",
    "    \"\"\"\n",
    "    Calculates the matrix of likelihoods for a sequence of observations and a set of multivariate Gaussian models.\n",
    "\n",
    "    Inputs\n",
    "      - O: an D x N observation matrix, where D is the dimensionality of the feature representation and N is the number\n",
    "        of observations\n",
    "      - means: an M x D matrix specifying the distribution means, where M is the number of multivariate Gaussian models \n",
    "      - covars: an M x D x D array specifying the distribution covariance matrices, where the first index specifies the model\n",
    "        and the remaining two indices specify the model's covariance matrix\n",
    "\n",
    "    Outputs\n",
    "      - prob: a M x N matrix specifying model likelihoods, where M corresponds to the different models and where N corresponds\n",
    "        to the different observations\n",
    "    \"\"\"\n",
    "    ### INSERT CODE BELOW ###\n",
    "    \n",
    "    M = means.shape[0]  # unpack required matrix dimensions\n",
    "    N = O.shape[1]      \n",
    "\n",
    "    prob = np.zeros((M,N))\n",
    "\n",
    "    for row in range(M):  # loop through models\n",
    "        model_E = means[row, :]   # unpack current model mean\n",
    "        model_Sig = covars[row, :, :]   # unpack current model covariance\n",
    "        gauss_dist = multivariate_normal(mean = model_E, cov = model_Sig)   # generate gaussian distributiuon for current model\n",
    "        for col in range(N): # loop through audio frames\n",
    "            prob[row, col] = gauss_dist.pdf(x=O[:,col])\n",
    "            \n",
    "    return prob"
   ]
  },
  {
   "cell_type": "markdown",
   "id": "4e0c1aa5-0c92-434f-936d-475a0028e161",
   "metadata": {},
   "source": [
    "The function below implements the Viterbi algorithm from scratch.  Since there are lots of implementations of Viterbi online, you should not consult any direct implementations.  If you are unable to complete this part on your own, you may consult an online implementation for a grade deduction.  If you do so, please cite the resource and describe the extent of the assistance so that points may be deducted appropriately."
   ]
  },
  {
   "cell_type": "markdown",
   "id": "edb6ec49-704a-46e4-be5a-cc3b3c95fb3f",
   "metadata": {},
   "source": [
    "**Graded**: Please cite any resources you consulted in implementing the function below, and the extent of the assistance: \n",
    "\n",
    "We only consulted class notes to implement this function. "
   ]
  },
  {
   "cell_type": "code",
   "execution_count": 20,
   "id": "f87d041e-f0df-419f-92c0-78ce62f9b695",
   "metadata": {},
   "outputs": [],
   "source": [
    "# RAFAEL\n",
    "def viterbi(prob, A, pi):\n",
    "    \"\"\"\n",
    "    Inputs\n",
    "      - prob: a M x N matrix specifying model likelihoods, where M is the number of models and N is the number of observations\n",
    "      - A: an M x M transition probability matrix\n",
    "      - pi: a length M array specifying the initial state probability distribution\n",
    "        \n",
    "    Outputs\n",
    "      - S_est: the estimated sequence of (numeric) states\n",
    "    \"\"\"\n",
    "    ### INSERT CODE BELOW ###\n",
    "\n",
    "    lam = 0.1\n",
    "\n",
    "    M,N = prob.shape\n",
    "\n",
    "    pi = pi.reshape(M,) # make sure pi is a column vector\n",
    "    \n",
    "    #### CONSTRUCT D AND B MATRICES\n",
    "\n",
    "    D = np.zeros((M, N))  # Allocate cumulative path score matrix D\n",
    "    B = np.zeros((M, N))  # Allocate backrace matrix B\n",
    "\n",
    "    D[:,0] = np.log(pi) + np.log(prob[:,0]) # Initialize first column of D\n",
    "    \n",
    "    for f in range(1,N): # iterate over all frames (f)\n",
    "        for s in range(M): # iterate over all possible states (s) for each frame\n",
    "            transitions = A[:,s] # column vector of transitions from all states -> state s\n",
    "            p = prob[s,f] # probability of state s occuring in frame f\n",
    "            scores = D[:,f-1] + np.log(transitions) + lam * np.log(p) # scores = scores from previous frame + transition score + probability\n",
    "            D[s, f] = np.max(scores)    # assign max of possible scores to cumulative score matrix entry\n",
    "            B[s, f] = np.argmax(scores) # assign backpointer to be index of max possible score\n",
    "\n",
    "    #### EXTRACT ESTIMATED PATH THROUGH D\n",
    "    S_est = np.zeros(N)\n",
    "    S_est[0] = np.argmax(D[:,-1]) # construct estimated state sequence in reverse order, will flip at end\n",
    "\n",
    "    for i in range(1,N):\n",
    "        S_est[i] = B[int(S_est[i-1]),N-i]\n",
    "\n",
    "    return np.flip(S_est) # flip estimated state sequence to forward orientation and return"
   ]
  },
  {
   "cell_type": "markdown",
   "id": "e03b80ff-de38-4f54-904d-9f6752f2dddf",
   "metadata": {},
   "source": [
    "Using the two functions above, estimate the state sequence for each test recording and generate the corresponding .labels file (it can have a different extension but should have the same format so as to be readable by Audacity).  Include a visualization of your estimated states alongside the audio in Audacity (as shown above).  You may use as many code cells as needed, and be sure to decompose your code appropriately!"
   ]
  },
  {
   "cell_type": "code",
   "execution_count": 21,
   "id": "8f0523a6-49d1-419b-a78b-148305c5bddd",
   "metadata": {},
   "outputs": [],
   "source": [
    "### INSERT AS MANY CELLS AS NEEDED BELOW ###"
   ]
  },
  {
   "cell_type": "code",
   "execution_count": 22,
   "id": "0c3b1b7b",
   "metadata": {},
   "outputs": [],
   "source": [
    "### FIRST, CREATE FUNCTION FOR ESTIMATING THE STATE SEQUENCE OF A RECORDING\n",
    "\n",
    "# this really just strings together some of the functions from above \n",
    "def estimateStateSequence(test_file, means, covars, A, pi):\n",
    "    obs, hop = computeFeatures(test_file)\n",
    "    prob = calcSimilarity_multivariateGaussian(O = obs, means = means, covars = covars)\n",
    "    S_est = viterbi(prob = prob, A = A, pi = pi)\n",
    "    return S_est, hop\n"
   ]
  },
  {
   "cell_type": "code",
   "execution_count": 23,
   "id": "c9b3b3f7",
   "metadata": {},
   "outputs": [],
   "source": [
    "### DEFINE FUNCTION TO COMPILE LIST OF STATE-CHANGE INDICES FOR A STATE SEQUENCE\n",
    "def getStateChangeIndices(S_est):\n",
    "    indices = [0]\n",
    "    for i in range(1,len(S_est)):\n",
    "        if S_est[i-1] != S_est[i]:\n",
    "            indices.append(i)\n",
    "    indices.append(i)\n",
    "    return indices"
   ]
  },
  {
   "cell_type": "code",
   "execution_count": 24,
   "id": "428b0631",
   "metadata": {},
   "outputs": [],
   "source": [
    "### DEFINE FUNCTION TO CONVERT LIST OF INDICES TO TIMESTAMPS\n",
    "def convertToTimesteps(indices, hop):\n",
    "    timesteps = np.array(indices) * hop\n",
    "    return timesteps"
   ]
  },
  {
   "cell_type": "code",
   "execution_count": 25,
   "id": "216886e8",
   "metadata": {},
   "outputs": [],
   "source": [
    "### DEFINE FUNCTION TO GENERATE STATE ORDER LIST (COLLAPSE ADJACENT REPEATED VALUES OF S_EST)\n",
    "# Note: produced lists holds state string representations\n",
    "\n",
    "def collapseStateSequence(S_est):\n",
    "    S_est_collapsed = [states[int(S_est[0])]]\n",
    "    for i in range(1,len(S_est)):\n",
    "        if S_est[i] != S_est[i-1]:\n",
    "            S_est_collapsed.append(states[int(S_est[i])])\n",
    "    return S_est_collapsed"
   ]
  },
  {
   "cell_type": "code",
   "execution_count": 26,
   "id": "297f046d",
   "metadata": {},
   "outputs": [],
   "source": [
    "### DEFINE FUNCTIONS FOR WRITING TO .LABELS FILE\n",
    "\n",
    "# function to write one label (one line) to specified file\n",
    "def writeLabel(label_indicator, label_timestep, file):\n",
    "    start, stop = (label_timestep[0], label_timestep[1])\n",
    "    line = \"%f\\t%f\\t%s\\n\" % (start, stop, label_indicator)\n",
    "    file.write(line)\n",
    "\n",
    "# function to write a label file for the given indicators, timesteps, and filename\n",
    "def writeLabelFile(state_list, state_timesteps, file_name):\n",
    "    f = open(file_name, 'w')\n",
    "    for i in range(len(state_list)):\n",
    "        writeLabel(state_list[i], state_timesteps[i:i+2], f)\n",
    "    f.close()\n",
    "\n",
    "# function to generate a list of label file names\n",
    "def generateLabelFileNames(prefix, num_trials, suffix):\n",
    "    fnames = []\n",
    "    for i in range(num_trials):\n",
    "        fname = Path(ANNOT_DIR, '%s%d%s'%(prefix, i+1, suffix))\n",
    "        fnames.append(fname)\n",
    "    return fnames"
   ]
  },
  {
   "cell_type": "code",
   "execution_count": 27,
   "id": "ec71a9e0",
   "metadata": {},
   "outputs": [],
   "source": [
    "### WRITE LABELS FILES FOR TEST AUDIO FILES\n",
    "fileID = 'test'\n",
    "files = glob.glob('audio/%s*.mp3' % fileID)\n",
    "num_files = len(files)\n",
    "file_names = generateLabelFileNames(fileID, num_files, '_initial_estimation.labels')\n",
    "for i in range(num_files):\n",
    "    S_est, hop = estimateStateSequence(test_file = files[i], means = means, covars = covars, A = A, pi = pi)\n",
    "    state_change_indices = getStateChangeIndices(S_est=S_est)\n",
    "    state_change_timesteps = convertToTimesteps(indices=state_change_indices, hop=hop)\n",
    "    state_order_list = collapseStateSequence(S_est=S_est)\n",
    "    writeLabelFile(state_order_list, state_change_timesteps, file_names[i])"
   ]
  },
  {
   "cell_type": "markdown",
   "id": "aeba3454-c5d7-4d4f-b9dc-2919cf0bfed4",
   "metadata": {},
   "source": [
    "Comment on what you observe in your estimated state sequence, and propose some ideas on how you might improve the system."
   ]
  },
  {
   "cell_type": "markdown",
   "id": "9c0d3d05-9e9b-4af6-b66f-dda20a0bfb9b",
   "metadata": {},
   "source": [
    "**Graded**: \n",
    "\n",
    "Below you can see a series of images showing various test audio files displayed in Audacity with the estimated labels overlaid. To begin with, let's look at the audio record and estimated states for test1.mp3\n",
    "\n",
    "![Snapshot](test1labelsoverlaid.png)\n",
    "\n",
    "As you can see, the labels correctly capture each \"yes\" as a \"yes\" and each \"no\" as a \"no\". There seems to be an issue during some of the silences, however, where the speech recognizer accidentally assigns some of the silent portions of the recording to be very quick \"yes\"s and \"no\"s. Let's zoom in on the same recording to take a closer look: \n",
    "\n",
    "![Snapshot](test1labelsoverlaid_zoom.png)\n",
    "\n",
    "I've zoomed in on a \"yes\" portion of the audio file. That is to say, upon listening back, the speaker actually says \"yes\" in this portion of the recording. The algorithm correctly recognizes this segment as a unbroken string of \"Y\" states followed by \"EH\"s and finally followed by \"S\"s. However, at the very end, when we would hope that the algorithm would estimate silence, it squeezes a quick \"yes\" in. Note that at this moment, the signal amplitude is becoming very small, however it is not yet as low as \"true\" silence. This suggests that our algorithm tends to perform poorly during periods of low signal amplitude, tending to identify them as non-silence instead of silence. \n",
    "\n",
    "Let's take a look at the next record (test3.mp3) and see how the results compare: \n",
    "\n",
    "![Snapshot](test3labelsoverlaid.png)\n",
    "\n",
    "We see the same thing! Towards the beginning, the algorithm incorrectly identifies a \"no\" during a silent stretch, and incorrectly calls silence a \"yes\" just before the end of file. Let's zoom in on the end of file. \n",
    "\n",
    "![Snapshot](test3labelsoverlaid_zoom.png)\n",
    "\n",
    "Zooming in shows the same story that we noted for test1.mp3. In this period of the recording, background noise prevents the silent state from being recorded as truly silent. Small signal perturbations around zero signal amplitude are incorrectly identified as words. \n"
   ]
  },
  {
   "cell_type": "markdown",
   "id": "78e0a077-b593-4633-b377-45aad81fe9c7",
   "metadata": {},
   "source": [
    "### Part 4: Forced Alignment"
   ]
  },
  {
   "cell_type": "markdown",
   "id": "b966fb14-3e66-4808-806f-5ee7f6a64f87",
   "metadata": {},
   "source": [
    "In this part, you will perform forced alignment to determine the correspondence between the states in a given word-level transcription and the corresponding audio recording.  Your goal is to implement the function below, and then use it to determine the state-level alignment for train1.mp3.  Make sure to decompose your function appropriately!"
   ]
  },
  {
   "cell_type": "code",
   "execution_count": 28,
   "id": "0a3db6a4-c4b1-4925-b5a7-8dabd342dce1",
   "metadata": {},
   "outputs": [],
   "source": [
    "def forcedAlignment(audiofile, word_transcript, model, stateStr2id):\n",
    "  \"\"\"\n",
    "  Performs forced alignment between a given word-level transcription and the corresponding audio recording.\n",
    "  Inputs\n",
    "    - audiofile: filepath to the audio recording\n",
    "    - word_transcript: a string indicating the word-level transcription.  The transcription should only\n",
    "      contain 'yes' and 'no'; the function will raise an error if it contains anything other than these two words\n",
    "    - model: tuple of (A, pi, means, covars) specifying the trained HMM\n",
    "    - stateStr2id: a dict that maps from the state string representation to its numeric identifier (e.g. stateStr2id['EH'])\n",
    "  Output\n",
    "    - alignment: an array specifying the coordinates of the forced alignment\n",
    "  \"\"\"\n",
    "  ### INSERT CODE BELOW ###\n",
    "  A,pi,means,covars=model\n",
    "  features,hopsecs=computeFeatures(audiofile)\n",
    "  feat_num, frames=features.shape\n",
    "  string_array=word_transcript.split(\" \")\n",
    "  str_array2state,state_str_arr=expandWords(string_array)\n",
    "  state_arr_len=len(state_str_arr)\n",
    "  transition_indices=getTransitionIndices(state_str_arr,stateStr2id) #each \n",
    "  lam=1 #lambda param\n",
    "  similarity_mat=calcSimilarity_multivariateGaussian(features, means, covars)# provides conditional probabilities for observations and states\n",
    "  B,D=computeCostPath(features,str_array2state,state_str_arr,model,transition_indices)\n",
    "  path=backtrace(B,state_str_arr)\n",
    "\n",
    "  \"\"\"\n",
    "  TODO: FIGURE OUT WHAT ALIGNMENT FORMAT SHOULD BE. FOR NOW, I WILL RETURN PATH\n",
    "  \"\"\"\n",
    "  return path\n",
    "  \n",
    "           \n",
    "def computeCostPath(features,str_array2state,state_str_arr,model,transition_indices):\n",
    "  A,pi,means,covars=model\n",
    "  num_feats, frames=features.shape\n",
    "  lam=1 #lambda param\n",
    "  state_arr_len=len(state_str_arr)\n",
    "  D=-np.inf*np.ones((state_arr_len,frames))\n",
    "  B=np.zeros((state_arr_len,frames))\n",
    "  similarity_mat=calcSimilarity_multivariateGaussian(features, means, covars)# provides conditional probabilities for observations and states\n",
    "  #initialize first column\n",
    "  \n",
    "  for i in range(state_arr_len):\n",
    "    p_map=str_array2state[i] #unwrapped state index wrapped back to state space\n",
    "    conditional_p=similarity_mat[p_map,0] #conditional probability for state given current state wrapped back state\n",
    "    current_t_idx=transition_indices[i] #grab mapping from unwrapped state to state matrix indices \n",
    "    \n",
    "    A_mat_probs=A[current_t_idx[0],current_t_idx[1]]\n",
    "\n",
    "    D[i,0]=np.emath.log(A_mat_probs)+lam*np.emath.log(conditional_p)\n",
    "    \n",
    "\n",
    "  for i in range(0,state_arr_len):\n",
    "     for j in range(i+1,frames):\n",
    "        p_map=str_array2state[i] #unwrapped state index wrapped back to state space\n",
    "        conditional_p=similarity_mat[p_map,j] #conditional probability for state given current state wrapped back state\n",
    "        current_t_idx=transition_indices[i]#indices of current unwrapped state in the A matrix\n",
    "        A_mat_prob=A[current_t_idx[0],current_t_idx[1]] #conditional probability from the state matrix\n",
    "        cur_state_p=np.emath.log(A_mat_prob)+lam*np.emath.log(conditional_p) #probability score to be tacked on to path\n",
    "\n",
    "        #play around with just having probs be the a mat probs\n",
    "        if(i==0): #case of being in first row, can only come from previous frame horizontally\n",
    "           D[i,j]=D[i,j-1]+cur_state_p\n",
    "           #B[i,j]=0 for horizontal, 1 for diagonal\n",
    "           B[i,j]=0\n",
    "           #todo: add paths\n",
    "\n",
    "        else: #case of being in any other row besides first\n",
    "           paths=np.array([D[i,j-1],D[i-1,j-1]])\n",
    "           max_path_idx=np.argmax(paths) #todo: b path matrix\n",
    "           max_path=np.max(paths)\n",
    "           D[i,j]=max_path+cur_state_p  \n",
    "           B[i,j]=max_path_idx\n",
    "  return B,D        \n",
    "        \n",
    "def backtrace(B,state_str_arr):\n",
    "  path=[]\n",
    "  height,wid=B.shape  \n",
    "  current_pos=height-1#path should be in upper right corner\n",
    "  for i in range(wid-1,0,-1):#traverse in time\n",
    "\n",
    "    path.append(state_str_arr[current_pos])\n",
    "    next_move=B[current_pos,i] #next in path\n",
    "    current_pos=int(current_pos-next_move)\n",
    "  path=np.array(path)\n",
    "  path=np.flip(path)\n",
    "  return path\n",
    "\n",
    "def transcriptionFromFile(filename,offset):\n",
    "    f = open(filename)\n",
    "    lines = f.readlines()\n",
    "    \n",
    "    temp = lines[offset].split('|')\n",
    "    temp = temp[-1].split('\\n')\n",
    "    ret_str=temp[0]\n",
    "    return ret_str\n",
    "\n",
    "def expandWords(strlist):\n",
    "  expandedlist=[\"sil\"]\n",
    "  for i in range(len(strlist)):\n",
    "      if(strlist[i]==\"yes\"):\n",
    "        expandedlist.append(\"Y\")\n",
    "        expandedlist.append(\"EH\")\n",
    "        expandedlist.append(\"S\")\n",
    "        expandedlist.append(\"sil\")\n",
    "      elif (strlist[i]=='no'):\n",
    "        expandedlist.append(\"N\")\n",
    "        expandedlist.append(\"OH\")\n",
    "        expandedlist.append(\"sil\")\n",
    "      elif (strlist[i] == ''):\n",
    "         print(\"Empty string encountered and ignored in transcription file.\")\n",
    "      else: \n",
    "         print(\"Warning! Forcealign transcription string contains unregistered word (%s)\" %strlist[i])\n",
    "\n",
    "  states, stateStr2id=getStateMapping()\n",
    "  expanded_to_state={ i:stateStr2id[expandedlist[i]] for i in range(len(expandedlist))}\n",
    "  return expanded_to_state,expandedlist \n",
    "     \n",
    "def getTransitionIndices(state_list_str,strmap):\n",
    "  cur_state=state_list_str[0]\n",
    "  indices=[[strmap[cur_state],strmap[cur_state]]] #initialize first one as sil->sil\n",
    "  for i in range(len(state_list_str)-1):\n",
    "    cur_state=state_list_str[i]\n",
    "    next_state=state_list_str[i+1]\n",
    "    indices.append([strmap[cur_state],strmap[next_state]]) \n",
    "  return np.array(indices)      "
   ]
  },
  {
   "cell_type": "markdown",
   "id": "1b3ab7c3-3365-4811-84a7-6b21654e5f56",
   "metadata": {},
   "source": [
    "Once you have implemented the forced alignment function above, use it to estimate the state-level alignment for train1.mp3.  Visualize the predicted alignment alongside the audio in Audacity, and also include the word-level alignment from part 1 (that you manually created).  Comment on how the forced alignmend method improves the quality of the alignment."
   ]
  },
  {
   "cell_type": "code",
   "execution_count": 29,
   "id": "342c62a1-f790-4209-bc1b-3bc75b0cda24",
   "metadata": {},
   "outputs": [],
   "source": [
    "### DEFINE FUNCTIONS TO STREAMLINE FORCEALIGN FILE GENERATION\n",
    "\n",
    "def generateForcealignFilesFromTranscription(trans_file, audio_files, offset, alignment_fname):\n",
    "\n",
    "    trans_str = transcriptionFromFile(trans_file, offset)\n",
    "    path = forcedAlignment(audio_files[offset], trans_str, (A, pi, means, covars), stateStr2id)\n",
    "    alignment_states = getStateListForcealign(path)\n",
    "    alignment_coords = getStateChangeIndices(path)\n",
    "    alignment_timesteps = convertToTimesteps(alignment_coords, hop)\n",
    "    writeLabelFile(alignment_states, alignment_timesteps, alignment_fname)\n",
    "\n",
    "# This function should return a list that displays the same data as the transcription string, but broken down from words to states. \n",
    "# Operates by eliminating repeat values from the path array. \n",
    "def getStateListForcealign(path):\n",
    "    state_list = [path[0]]\n",
    "    for i in range(1,len(path)):\n",
    "        if path[i] != path[i-1]:\n",
    "            state_list.append(path[i])\n",
    "    return state_list"
   ]
  },
  {
   "cell_type": "code",
   "execution_count": 30,
   "id": "274d4cd4",
   "metadata": {},
   "outputs": [],
   "source": [
    "states, stateStr2id = getStateMapping()\n",
    "\n",
    "train_trans_file = Path(ANNOT_DIR, \"train.transcription\")\n",
    "train_audio_files = glob.glob('audio/train*.mp3')\n",
    "test_fname = Path(ANNOT_DIR, \"train1.forcealign\")\n",
    "\n",
    "generateForcealignFilesFromTranscription(trans_file=train_trans_file, audio_files=train_audio_files, offset=0, alignment_fname=test_fname)"
   ]
  },
  {
   "cell_type": "markdown",
   "id": "d33abd41-80f9-441e-a1c8-2f98de6397c2",
   "metadata": {},
   "source": [
    "**Graded**: Include the visualization below and comment on what you observe.\n",
    "\n",
    "![Snapshot](train1labelcomparison.png)\n",
    "\n",
    "In the above image, I've displayed both the estimated labels (generated using forced alignment) and the strong labels (generated manually) next to the audio data for train1.mp3. As you can see, the estimated labels are close to a perfect match with the strong labels!"
   ]
  },
  {
   "cell_type": "markdown",
   "id": "458f0c77-ca26-408d-ab0d-38eace106eb6",
   "metadata": {},
   "source": [
    "### Part 5: Retrain Model"
   ]
  },
  {
   "cell_type": "markdown",
   "id": "d8868303-cf1a-44d1-91d9-da0cf2ee2baf",
   "metadata": {},
   "source": [
    "In the last part of the assignment, you will use your initial model from part 2, perform forced alignment to generate .forcealign files for all weakly labeled training data, re-train your HMM, and then perform inference on the test data with the new model.  Provide a snapshot in Audacity comparing the predictions from part 3 and part 5 on a single test file.  Comment on any differences you observe, what the re-trained model is doing well, and where the re-trained model is making errors."
   ]
  },
  {
   "cell_type": "code",
   "execution_count": 31,
   "id": "626c7be8-0316-4b3a-8e2e-f61c738ae025",
   "metadata": {},
   "outputs": [],
   "source": [
    "### INSERT AS MANY CELLS AS NEEDED BELOW ###"
   ]
  },
  {
   "cell_type": "code",
   "execution_count": 32,
   "id": "a81ac69e",
   "metadata": {},
   "outputs": [],
   "source": [
    "# START BY GENERATING .FORCEALIGN FILES FOR THE REMAINING TRAINING DATA\n",
    "\n",
    "train_trans_file = Path(ANNOT_DIR, \"train.transcription\")\n",
    "\n",
    "train_audio_files = glob.glob('%s/train*.mp3' % AUDIO_DIR)\n",
    "train_forcealign_filenames = generateLabelFileNames(prefix=\"train\", num_trials=5, suffix=\".forcealign\")\n",
    "\n",
    "for i in range(5):\n",
    "    generateForcealignFilesFromTranscription(trans_file=train_trans_file, audio_files=train_audio_files, offset=i, alignment_fname=train_forcealign_filenames[i])"
   ]
  },
  {
   "cell_type": "code",
   "execution_count": 33,
   "id": "a584faef",
   "metadata": {},
   "outputs": [],
   "source": [
    "### DEFINE FUNCTION TO GET STATES FROM .FORCEALIGN FILE\n",
    "def getStatesFromForcealignFile(file_name, hopsize, states):\n",
    "    f = open(file_name)\n",
    "    lines = f.readlines()\n",
    "    \n",
    "    lastLine = lines[-1].split('\\t') # extract the end time of the last label to determine the length of S\n",
    "    endtime = float(lastLine[1])\n",
    "\n",
    "    S = np.zeros(int(endtime//hopsize))\n",
    "\n",
    "\n",
    "    for i in range(len(lines)):\n",
    "        line = lines[i].split('\\t')   # split the label into [start time, end time, label identifier]\n",
    "\n",
    "        t1 = float(line[0])            # extract start time (convert from string to float)\n",
    "        t2 = float(line[1])            # extract end time\n",
    "\n",
    "        ind1 = int(t1 // hopsize)\n",
    "        ind2 = int(t2 // hopsize)\n",
    "\n",
    "        temp = line[2].split('\\n') # remove newline character if it exists\n",
    "        state_str = temp[0]\n",
    "        \n",
    "        for i in range(len(states)):\n",
    "            #print('State_str: %s, Cur_state: %s, Equal? %d' % (state_str, states[i], states[i] == state_str))\n",
    "            if states[i] == state_str:\n",
    "                S[ind1:ind2] = str2id[states[i]]\n",
    "    return S"
   ]
  },
  {
   "cell_type": "code",
   "execution_count": 34,
   "id": "3306aaef",
   "metadata": {},
   "outputs": [],
   "source": [
    "### CREATE O_LIST AND S_LIST TO TRAIN ON, and RETRAIN THE MODEL! \n",
    "states, stateStr2id = getStateMapping() # retrieve list of possible states and mapping between string and integer state representation\n",
    "\n",
    "S_list = []\n",
    "O_list = []\n",
    "\n",
    "for i in range(5):\n",
    "    O, hop = computeFeatures(audiofile = train_audio_files[i])\n",
    "    S = getStatesFromForcealignFile(file_name = train_forcealign_filenames[i], hopsize = hop, states = states)\n",
    "    \n",
    "    O_list.append(O)\n",
    "    S_list.append(S)\n",
    "\n",
    "\n",
    "A_retrained, pi_retrained, means_retrained, covars_retrained = trainHMM(O_list, S_list, states)"
   ]
  },
  {
   "cell_type": "code",
   "execution_count": 35,
   "id": "2b7b69c1",
   "metadata": {},
   "outputs": [],
   "source": [
    "### Perform inference on the 5 test files\n",
    "\n",
    "files = glob.glob('audio/test*.mp3')\n",
    "num_files = len(files)\n",
    "file_names = generateLabelFileNames(fileID, num_files, '_retrained_estimation.labels')\n",
    "for i in range(num_files):\n",
    "    S_est, hop = estimateStateSequence(test_file = files[i], means = means_retrained, covars = covars_retrained, A = A_retrained, pi = pi_retrained)\n",
    "    state_change_indices = getStateChangeIndices(S_est=S_est)\n",
    "    state_change_timesteps = convertToTimesteps(indices=state_change_indices, hop=hop)\n",
    "    state_order_list = collapseStateSequence(S_est=S_est)\n",
    "    writeLabelFile(state_order_list, state_change_timesteps, file_names[i])"
   ]
  },
  {
   "cell_type": "markdown",
   "id": "6d617af9-85e1-451e-ba5a-75e06e869886",
   "metadata": {},
   "source": [
    "**Graded**:  \n",
    "\\[INSERT VISUALIZATION & COMMENTS HERE\\]"
   ]
  },
  {
   "cell_type": "markdown",
   "id": "38a68883-689e-42c5-8f7b-279b1bcae712",
   "metadata": {},
   "source": [
    "Below you can see a screenshot of one of the audio files (test 2) displayed with overlaid labels, generated from the retrained model. \n",
    "\n",
    "![Snapshot](test2retrainedlabelsoverlaid.png)\n",
    "\n",
    "It is almost entirely correct! But this image is very zoomed out, so I don't expect you to believe me. Let's zoom in. \n",
    "\n",
    "![Snapshot](test2retrainedlabelsoverlaid_zoom.png)\n",
    "\n",
    "You can see that this model correctly identifies two successive \"yes\"s in this portion of the audio file. You also probably notice, however, that it stumbles into the same problem that the original model did: accidentally identifying silence as a \"no\". We chose to show this segment of the audio file to illustrate that the retrained model did not entirely overcome this problem, however it is worth noting that this error seems to occur less frequently with the new model. After retraining, we were able to further reduce the frequency of this error by reducing the lambda value in our viterbi algorithm. This caused the algorithm to trust the observations less, leading to a decreased likelihood of a small perturbation during silence to lead to an incorrect algorithm prediction. \n",
    "\n",
    "The remaining test files, included below, show similar results. \n",
    "\n",
    "### Test 1\n",
    "![Snapshot](test1retrainedlabelsoverlaid.png)\n",
    "\n",
    "### Test 3\n",
    "![Snapshot](test3retrainedlabelsoverlaid.png)\n",
    "\n",
    "### Test 4\n",
    "![Snapshot](test4retrainedlabelsoverlaid.png)\n",
    "\n",
    "### Test 5\n",
    "![Snapshot](test5retrainedlabelsoverlaid.png)\n",
    "\n",
    "As you can see, these files show nearly perfect accuracy to the states we expect based on the audio files, with only one additional error occuring over files 1,3,4, and 5. This error occurs at the beginning of test file four, in which silence is accidentally labelled \"no\" for a moment. This is an improvement over the model accuracy trained on only one record. "
   ]
  }
 ],
 "metadata": {
  "kernelspec": {
   "display_name": "E207_Spr24",
   "language": "python",
   "name": "python3"
  },
  "language_info": {
   "codemirror_mode": {
    "name": "ipython",
    "version": 3
   },
   "file_extension": ".py",
   "mimetype": "text/x-python",
   "name": "python",
   "nbconvert_exporter": "python",
   "pygments_lexer": "ipython3",
   "version": "3.11.7"
  }
 },
 "nbformat": 4,
 "nbformat_minor": 5
}
